{
 "cells": [
  {
   "cell_type": "markdown",
   "id": "1f03e723",
   "metadata": {},
   "source": [
    "**The Battle of Neighborhoods | Data Description**\n",
    "\n",
    "**Data Description:**\n",
    "\n",
    "We require geolocation data for Paris. Postal codes in each city serve as a starting point. Using Postal codes we use can find out the neighbourhoods, boroughs, venues and their most popular venue categories.\n",
    "\n",
    "To derive our solution, We leverage JSON data available at https://www.data.gouv.fr/fr/datasets/r/e88c6fda-1d09-42a0-a069-606d3259114e\n",
    "\n",
    "The JSON file has data about all the neighbourhoods in France, we limit it to Paris.\n",
    "\n",
    "*postal_code : Postal codes for France*\n",
    "\n",
    "*nom_comm : Name of Neighbourhoods in France*\n",
    "\n",
    "*nom_dept : Name of the boroughs, equivalent to towns in France*\n",
    "\n",
    "*geo_point_2d : Tuple containing the latitude and longitude of the Neighbourhoods.*\n",
    "\n",
    "**Foursquare API Data**\n",
    "\n",
    "We will need data about different venues in different neighbourhoods of that specific borough. In order to gain that information we will use \"Foursquare\" locational information. Foursquare is a location data provider with information about all manner of venues and events within an area of interest. Such information includes venue names, locations, menus and even photos. As such, the foursquare location platform will be used as the sole data source since all the stated required information can be obtained through the API.\n",
    "\n",
    "After finding the list of neighbourhoods, we then connect to the Foursquare API to gather information about venues inside each and every neighbourhood. For each neighbourhood, we have chosen the radius to be 500 meters.\n",
    "\n",
    "The data retrieved from Foursquare contained information of venues within a specified distance of the longitude and latitude of the postcodes. The information obtained per venue as follows:\n",
    "\n",
    "*Neighbourhood : Name of the Neighbourhood*\n",
    "\n",
    "*Neighbourhood Latitude : Latitude of the Neighbourhood*\n",
    "\n",
    "*Neighbourhood Longitude : Longitude of the Neighbourhood*\n",
    "\n",
    "*Venue : Name of the Venue*\n",
    "\n",
    "*Venue Latitude : Latitude of Venue*\n",
    "\n",
    "*Venue Longitude : Longitude of Venue*\n",
    "\n",
    "*Venue Category : Category of Venue*"
   ]
  },
  {
   "cell_type": "code",
   "execution_count": null,
   "id": "a4174391",
   "metadata": {},
   "outputs": [],
   "source": []
  }
 ],
 "metadata": {
  "kernelspec": {
   "display_name": "Python",
   "language": "python",
   "name": "conda-env-python-py"
  },
  "language_info": {
   "codemirror_mode": {
    "name": "ipython",
    "version": 3
   },
   "file_extension": ".py",
   "mimetype": "text/x-python",
   "name": "python",
   "nbconvert_exporter": "python",
   "pygments_lexer": "ipython3",
   "version": "3.6.13"
  }
 },
 "nbformat": 4,
 "nbformat_minor": 5
}
