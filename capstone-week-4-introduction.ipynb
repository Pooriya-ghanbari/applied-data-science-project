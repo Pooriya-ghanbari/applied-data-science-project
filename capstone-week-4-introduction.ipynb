{
 "cells": [
  {
   "cell_type": "markdown",
   "id": "00f00ed3",
   "metadata": {},
   "source": [
    "**Clustering the Neighbourhoods of London and Paris**\n",
    "\n",
    "Pooriya Ghanbari Merdasi\n",
    "\n",
    "13th April 2021\n",
    "\n",
    "**Introduction**\n",
    "\n",
    "Paris is a quite the popular tourist and vacation destination for people all around the world. The city is diverse and multicultural and offers a wide variety of experiences that are widely sought after. We try to group the neighbourhoods of Paris and draw insights to what they look like.\n",
    "\n",
    "**Business Problem**\n",
    "\n",
    "The aim is to help tourists choose their destinations depending on the experiences that the neighbourhoods have to offer and what they would want to have. This also helps people make decisions if they are thinking about migrating to Paris or even if they want to relocate neighbourhoods within the city. Our findings will help stakeholders make informed decisions and address any concerns they have including the different kinds of cuisines, provision stores and what the city has to offer.\n",
    "\n",
    "**Foursquare API Data**\n",
    "We will need data about different venues in different neighbourhoods of that specific borough. In order to gain that information we will use \"Foursquare\" locational information. Foursquare is a location data provider with information about all manner of venues and events within an area of interest. Such information includes venue names, locations, menus and even photos. As such, the foursquare location platform will be used as the sole data source since all the stated required information can be obtained through the API.\n",
    "\n",
    "After finding the list of neighbourhoods, we then connect to the Foursquare API to gather information about venues inside each and every neighbourhood. For each neighbourhood, we have chosen the radius to be 500 meters.\n",
    "\n",
    "**Libraries Which are Used to Develope the Project:**\n",
    "\n",
    "*Pandas: For creating and manipulating dataframes.*\n",
    "\n",
    "*Folium: Python visualization library would be used to visualize the neighborhoods cluster distribution of using interactive leaflet map.*\n",
    "\n",
    "*Scikit Learn: For importing k-means clustering.*\n",
    "\n",
    "*JSON: Library to handle JSON files.*\n",
    "\n",
    "*XML: To separate data from presentation and XML stores data in plain text format.*\n",
    "\n",
    "*Geocoder: To retrieve Location Data.*\n",
    "\n",
    "*Beautiful Soup and Requests: To scrap and library to handle http requests.*\n",
    "\n",
    "*Matplotlib: Python Plotting Module.*"
   ]
  }
 ],
 "metadata": {
  "kernelspec": {
   "display_name": "Python",
   "language": "python",
   "name": "conda-env-python-py"
  },
  "language_info": {
   "codemirror_mode": {
    "name": "ipython",
    "version": 3
   },
   "file_extension": ".py",
   "mimetype": "text/x-python",
   "name": "python",
   "nbconvert_exporter": "python",
   "pygments_lexer": "ipython3",
   "version": "3.6.13"
  }
 },
 "nbformat": 4,
 "nbformat_minor": 5
}
